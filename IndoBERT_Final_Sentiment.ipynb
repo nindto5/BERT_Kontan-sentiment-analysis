{
 "cells": [
  {
   "cell_type": "code",
   "execution_count": 2,
   "id": "502e9e1b-6d8d-474f-ac0e-8baa290b22cf",
   "metadata": {},
   "outputs": [
    {
     "data": {
      "text/html": [],
      "text/plain": [
       "<IPython.core.display.HTML object>"
      ]
     },
     "metadata": {},
     "output_type": "display_data"
    },
    {
     "name": "stdout",
     "output_type": "stream",
     "text": [
      "Sentiment classification completed! Results saved as 'finalsentiment_analysis_results.xlsx'.\n"
     ]
    }
   ],
   "source": [
    "import pandas as pd\n",
    "import torch\n",
    "from transformers import BertForSequenceClassification, Trainer, DataCollatorWithPadding, BertTokenizer\n",
    "import json\n",
    "\n",
    "# Load fine-tuned model and tokenizer\n",
    "model_path = r\"C:\\Users\\nindi\\AppData\\Roaming\\Python\\Python312\\site-packages\\model_sentiment\"\n",
    "model = BertForSequenceClassification.from_pretrained(model_path)\n",
    "tokenizer = BertTokenizer.from_pretrained(\"indobenchmark/indobert-base-p2\")\n",
    "\n",
    "# Load entire raw dataset (61,188 rows)\n",
    "data_path = r\"C:\\Users\\nindi\\AppData\\Roaming\\Python\\Python312\\site-packages\\pandas\\io\\excel\\Final\\final_processed_raw_61188.xlsx\"\n",
    "data = pd.read_excel(data_path)\n",
    "\n",
    "# Ensure token_ids are lists of integers (parse if stored as strings)\n",
    "data['token_ids'] = data['token_ids'].apply(lambda x: json.loads(x) if isinstance(x, str) else x)\n",
    "\n",
    "# Truncate each token_ids list to a maximum of 512 tokens\n",
    "data['token_ids'] = data['token_ids'].apply(lambda x: x[:512] if len(x) > 512 else x)\n",
    "\n",
    "# Prepare dataset\n",
    "class SentimentDataset(torch.utils.data.Dataset):\n",
    "    def __init__(self, token_ids):\n",
    "        self.token_ids = token_ids\n",
    "\n",
    "    def __getitem__(self, idx):\n",
    "        return {\n",
    "            \"input_ids\": torch.tensor(self.token_ids[idx], dtype=torch.long)  # Ensuring long tensor type\n",
    "        }\n",
    "\n",
    "    def __len__(self):\n",
    "        return len(self.token_ids)\n",
    "\n",
    "# Create dataset for the entire unlabeled data\n",
    "unlabeled_dataset = SentimentDataset(data['token_ids'].tolist())\n",
    "\n",
    "# Initialize data collator for padding\n",
    "data_collator = DataCollatorWithPadding(tokenizer=tokenizer)\n",
    "\n",
    "# Define trainer for the model (no training or evaluation is done here, just predictions)\n",
    "trainer = Trainer(\n",
    "    model=model,\n",
    "    data_collator=data_collator\n",
    ")\n",
    "\n",
    "# Run predictions on the entire dataset\n",
    "predictions = trainer.predict(unlabeled_dataset).predictions.argmax(-1)\n",
    "\n",
    "# Add predictions to the dataframe\n",
    "data['bert_sentiment'] = predictions  # new column for BERT sentiment predictions\n",
    "\n",
    "# Save the dataframe with sentiment predictions\n",
    "output_path = r\"C:\\Users\\nindi\\finalsentiment_analysis_results.xlsx\"\n",
    "data.to_excel(output_path, index=False)\n",
    "\n",
    "print(\"Sentiment classification completed! Results saved as 'finalsentiment_analysis_results.xlsx'.\")\n"
   ]
  },
  {
   "cell_type": "code",
   "execution_count": null,
   "id": "23cd2bc8-940f-47ec-bac7-b277b90b2453",
   "metadata": {},
   "outputs": [],
   "source": []
  }
 ],
 "metadata": {
  "kernelspec": {
   "display_name": "Python 3 (ipykernel)",
   "language": "python",
   "name": "python3"
  },
  "language_info": {
   "codemirror_mode": {
    "name": "ipython",
    "version": 3
   },
   "file_extension": ".py",
   "mimetype": "text/x-python",
   "name": "python",
   "nbconvert_exporter": "python",
   "pygments_lexer": "ipython3",
   "version": "3.12.4"
  }
 },
 "nbformat": 4,
 "nbformat_minor": 5
}
